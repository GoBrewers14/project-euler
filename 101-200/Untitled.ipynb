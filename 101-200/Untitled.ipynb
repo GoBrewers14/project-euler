{
 "cells": [
  {
   "cell_type": "code",
   "execution_count": 1,
   "metadata": {
    "collapsed": true
   },
   "outputs": [],
   "source": [
    "from math import factorial\n",
    "from itertools import permutations\n",
    "from collections import defaultdict"
   ]
  },
  {
   "cell_type": "code",
   "execution_count": 2,
   "metadata": {
    "collapsed": true
   },
   "outputs": [],
   "source": [
    "d = defaultdict(int)"
   ]
  },
  {
   "cell_type": "code",
   "execution_count": 3,
   "metadata": {
    "collapsed": false
   },
   "outputs": [],
   "source": [
    "for ps in permutations(range(1,10)):\n",
    "    d[int(\"\".join(str(x) for x in ps))] += 1"
   ]
  },
  {
   "cell_type": "code",
   "execution_count": 4,
   "metadata": {
    "collapsed": true
   },
   "outputs": [],
   "source": [
    "a, b = 0, 1"
   ]
  },
  {
   "cell_type": "code",
   "execution_count": 5,
   "metadata": {
    "collapsed": false
   },
   "outputs": [
    {
     "name": "stdout",
     "output_type": "stream",
     "text": [
      "@ iter := 10000\n",
      "@ iter := 20000\n",
      "@ iter := 30000\n",
      "@ iter := 40000\n",
      "@ iter := 50000\n",
      "@ iter := 60000\n",
      "@ iter := 70000\n",
      "@ iter := 80000\n",
      "@ iter := 90000\n",
      "@ iter := 100000\n",
      "@ iter := 110000\n",
      "@ iter := 120000\n",
      "@ iter := 130000\n",
      "@ iter := 140000\n",
      "@ iter := 150000\n",
      "@ iter := 160000\n",
      "@ iter := 170000\n",
      "@ iter := 180000\n",
      "@ iter := 190000\n",
      "@ iter := 200000\n",
      "@ iter := 210000\n",
      "@ iter := 220000\n",
      "@ iter := 230000\n",
      "@ iter := 240000\n",
      "@ iter := 250000\n",
      "@ iter := 260000\n",
      "@ iter := 270000\n",
      "@ iter := 280000\n",
      "@ iter := 290000\n",
      "@ iter := 300000\n",
      "@ iter := 310000\n",
      "@ iter := 320000\n",
      "329468\n"
     ]
    }
   ],
   "source": [
    "for k in xrange(1000000):\n",
    "    if (k + 1) % 10000 == 0:\n",
    "        print \"@ iter := {}\".format(k+1)\n",
    "    a, b = b, a + b\n",
    "    if a % 1000000000 in d:\n",
    "        if int(str(a)[::-1]) % 1000000000 in d:\n",
    "            print k + 1\n",
    "            break"
   ]
  },
  {
   "cell_type": "code",
   "execution_count": 5,
   "metadata": {
    "collapsed": true
   },
   "outputs": [],
   "source": [
    "pandigital = []"
   ]
  },
  {
   "cell_type": "code",
   "execution_count": 6,
   "metadata": {
    "collapsed": false
   },
   "outputs": [],
   "source": [
    "for k in xrange(2, 200000):\n",
    "    new_fib = fibs[-1] + fibs[-2]\n",
    "    if new_fib % 1000000000 in d:\n",
    "        #pandigital.append(k)\n",
    "        if int(str(new_fib)[::-1]) % 1000000000 in d:\n",
    "            pandigital.append(k)\n",
    "            break\n",
    "\n",
    "    fibs.append(new_fib)"
   ]
  },
  {
   "cell_type": "code",
   "execution_count": 7,
   "metadata": {
    "collapsed": false
   },
   "outputs": [
    {
     "data": {
      "text/plain": [
       "[]"
      ]
     },
     "execution_count": 7,
     "metadata": {},
     "output_type": "execute_result"
    }
   ],
   "source": [
    "pandigital"
   ]
  },
  {
   "cell_type": "code",
   "execution_count": null,
   "metadata": {
    "collapsed": true
   },
   "outputs": [],
   "source": [
    "# 0) [0,1]\n",
    "# 1) get 0 and 1\n",
    "# 2) add 0 and 1\n"
   ]
  }
 ],
 "metadata": {
  "kernelspec": {
   "display_name": "Python 2",
   "language": "python",
   "name": "python2"
  },
  "language_info": {
   "codemirror_mode": {
    "name": "ipython",
    "version": 2
   },
   "file_extension": ".py",
   "mimetype": "text/x-python",
   "name": "python",
   "nbconvert_exporter": "python",
   "pygments_lexer": "ipython2",
   "version": "2.7.11"
  }
 },
 "nbformat": 4,
 "nbformat_minor": 0
}
