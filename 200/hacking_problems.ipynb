{
 "cells": [
  {
   "cell_type": "code",
   "execution_count": 1,
   "metadata": {
    "collapsed": true
   },
   "outputs": [],
   "source": [
    "# -*- coding: utf-8 -*-\n",
    "\n",
    "import time\n",
    "import itertools\n",
    "from math import factorial\n",
    "from collections import defaultdict"
   ]
  },
  {
   "cell_type": "code",
   "execution_count": 2,
   "metadata": {
    "collapsed": true
   },
   "outputs": [],
   "source": [
    "\"\"\"\n",
    "Problem 104\n",
    "\"\"\""
   ]
  },
  {
   "cell_type": "code",
   "execution_count": 12,
   "metadata": {
    "collapsed": false
   },
   "outputs": [],
   "source": [
    "d = defaultdict(int)\n",
    "\n",
    "for ps in itertools.permutations(range(1,10)):\n",
    "    d[int(\"\".join(str(x) for x in ps))] += 1"
   ]
  },
  {
   "cell_type": "code",
   "execution_count": 4,
   "metadata": {
    "collapsed": true
   },
   "outputs": [],
   "source": [
    "a, b = 0, 1"
   ]
  },
  {
   "cell_type": "code",
   "execution_count": 7,
   "metadata": {
    "collapsed": false
   },
   "outputs": [],
   "source": [
    "for k in xrange(10):\n",
    "    #if (k + 1) % 10000 == 0:\n",
    "    #    print \"@ iter := {}\".format(k+1)\n",
    "    a, b = b, a + b\n",
    "    if a % 1000000000 in d:\n",
    "        if int(str(a)[::-1]) % 1000000000 in d:\n",
    "            print k + 1\n",
    "            break"
   ]
  },
  {
   "cell_type": "code",
   "execution_count": null,
   "metadata": {
    "collapsed": true
   },
   "outputs": [],
   "source": [
    "\"\"\"\n",
    "Problem 145\n",
    "\"\"\""
   ]
  },
  {
   "cell_type": "code",
   "execution_count": 2,
   "metadata": {
    "collapsed": false
   },
   "outputs": [],
   "source": [
    "d = defaultdict(int)\n",
    "\n",
    "for i in xrange(2, 10):\n",
    "    for cwr in itertools.product([1, 3, 5, 7, 9], repeat=i):\n",
    "        d[int(\"\".join(str(x) for x in cwr))] += 1"
   ]
  },
  {
   "cell_type": "code",
   "execution_count": 3,
   "metadata": {
    "collapsed": false
   },
   "outputs": [],
   "source": [
    "checks = [x for x in xrange(12, int(1e9)) if x % 10 != 0]"
   ]
  },
  {
   "cell_type": "code",
   "execution_count": 4,
   "metadata": {
    "collapsed": false
   },
   "outputs": [
    {
     "name": "stdout",
     "output_type": "stream",
     "text": [
      "@ iter := 100000000\ttime elapsed := 116.03225708\n",
      "@ iter := 200000000\ttime elapsed := 242.474848032\n",
      "@ iter := 300000000\ttime elapsed := 368.417948008\n",
      "@ iter := 400000000\ttime elapsed := 494.610108137\n",
      "@ iter := 500000000\ttime elapsed := 620.344355106\n",
      "@ iter := 600000000\ttime elapsed := 747.075339079\n",
      "@ iter := 700000000\ttime elapsed := 874.687547922\n",
      "@ iter := 800000000\ttime elapsed := 1002.819278\n",
      "@ iter := 900000000\ttime elapsed := 1129.37694597\n",
      "@ iter := 1000000000\ttime elapsed := 1256.29851103\n"
     ]
    }
   ],
   "source": [
    "st = time.time()\n",
    "tmp = []\n",
    "\n",
    "for i in checks:\n",
    "    if (i + 1) % 100000000 == 0 and i > 0:\n",
    "        et = time.time()\n",
    "        print \"@ iter := {}\\ttime elapsed := {}\".format(i+1, et-st)\n",
    "\n",
    "    if i + int(str(i)[::-1]) in d:\n",
    "        tmp.append(i)"
   ]
  },
  {
   "cell_type": "code",
   "execution_count": 5,
   "metadata": {
    "collapsed": false
   },
   "outputs": [
    {
     "name": "stdout",
     "output_type": "stream",
     "text": [
      "608720\n"
     ]
    }
   ],
   "source": [
    "print len(tmp)"
   ]
  },
  {
   "cell_type": "code",
   "execution_count": null,
   "metadata": {
    "collapsed": true
   },
   "outputs": [],
   "source": []
  }
 ],
 "metadata": {
  "kernelspec": {
   "display_name": "Python 2",
   "language": "python",
   "name": "python2"
  },
  "language_info": {
   "codemirror_mode": {
    "name": "ipython",
    "version": 2
   },
   "file_extension": ".py",
   "mimetype": "text/x-python",
   "name": "python",
   "nbconvert_exporter": "python",
   "pygments_lexer": "ipython2",
   "version": "2.7.11"
  }
 },
 "nbformat": 4,
 "nbformat_minor": 0
}
